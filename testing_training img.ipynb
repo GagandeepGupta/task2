{
 "cells": [
  {
   "cell_type": "code",
   "execution_count": 13,
   "metadata": {},
   "outputs": [],
   "source": [
    "import cv2"
   ]
  },
  {
   "cell_type": "code",
   "execution_count": 14,
   "metadata": {},
   "outputs": [],
   "source": [
    "x = cv2.VideoCapture(0)"
   ]
  },
  {
   "cell_type": "code",
   "execution_count": 15,
   "metadata": {},
   "outputs": [],
   "source": [
    "for i in range(0,10):\n",
    "    status,photo = x.read()\n",
    "    resize_photo = cv2.resize(photo , (224,224))\n",
    "    cv2.imwrite(\"C://Users//GD GUPTA//Desktop//ml-ops//task3 using imagenet//testing//hey2//\" + str(i) +\".png\" ,resize_photo)\n",
    "    if cv2.waitKey(10) ==13:\n",
    "        break\n",
    "cv2.destroyAllWindows()\n",
    "x.release()"
   ]
  },
  {
   "cell_type": "code",
   "execution_count": null,
   "metadata": {},
   "outputs": [],
   "source": []
  }
 ],
 "metadata": {
  "kernelspec": {
   "display_name": "Python 3",
   "language": "python",
   "name": "python3"
  },
  "language_info": {
   "codemirror_mode": {
    "name": "ipython",
    "version": 3
   },
   "file_extension": ".py",
   "mimetype": "text/x-python",
   "name": "python",
   "nbconvert_exporter": "python",
   "pygments_lexer": "ipython3",
   "version": "3.7.7"
  }
 },
 "nbformat": 4,
 "nbformat_minor": 4
}
